{
 "cells": [
  {
   "cell_type": "code",
   "execution_count": 9,
   "metadata": {},
   "outputs": [],
   "source": [
    "import pandas as pd\n",
    "############## xCell ##############\n",
    "output_path='/dsi/sbm/linoym/ovarian_tumor/python_scripts'\n",
    "# Replace 'your_file.tsv' with the actual file path\n",
    "file_path_20_samples = '/dsi/sbm/linoym/Benchmarking_RNASeq/xCell_scoring/xCell_20_samples_converted_xCell_0616013024.txt'\n",
    "file_path_4_samples = '/dsi/sbm/linoym/Benchmarking_RNASeq/xCell_scoring/xCell_4_samples_converted_xCell_1355012324.txt'\n",
    "\n",
    "def t_score(filename):\n",
    "    # Read the TSV file into a DataFrame\n",
    "    df = pd.read_csv(filename, sep='\\t')\n",
    "\n",
    "    # filter columns name (refer to cell type) that have T in there names in order to find T-cell type\n",
    "    df_only_t_cells=df[df[df.columns[0]].str.contains('T')]\n",
    "    #print(df_only_t_cells)\n",
    "\n",
    "    #print(df_only_t_cells[df_only_t_cells.columns[0]])\n",
    "\n",
    "    # 14 T-cells type:\n",
    "    #'CD4+ T-cells','CD4+ Tcm','CD4+ Tem','CD4+ memory T-cells','CD4+ naive T-cells'\n",
    "    #'CD8+ T-cells','CD8+ Tcm','CD8+ Tem','CD8+ naive T-cells','NKT','Tgd cells','Th1 cells'\n",
    "    #'Th2 cells','Tregs'\n",
    "\n",
    "\n",
    "\n",
    "    #axis=1 sum along rows , axis=0 for summing along columns\n",
    "    # in this case I need to sum by columns beacuse colums are samples (rows are the T cells type)\n",
    "    df_sum_t_cells=df_only_t_cells.sum(axis=0)\n",
    "\n",
    "    # Rename the resulting Series\n",
    "    df_sum_t_cells = df_sum_t_cells.reset_index()\n",
    "    df_sum_t_cells.columns = ['sample', 'sum_t_cell_score']\n",
    "    #print(df_sum_t_cells)\n",
    "\n",
    "    # remove unnecessary titles\n",
    "    f_sum_t_cells = df_sum_t_cells.iloc[1:]\n",
    "    #print(f_sum_t_cells)\n",
    "\n",
    "    # Reset the index if needed\n",
    "    f_sum_t_cells = f_sum_t_cells.reset_index(drop=True)\n",
    "    f_sum_t_cells = f_sum_t_cells.sort_values(by='sum_t_cell_score',ascending=False)\n",
    "\n",
    "    # remove X bedore sample name (output from xcell tool)\n",
    "    f_sum_t_cells['sample'] = f_sum_t_cells['sample'].str.extract(r'(\\d+)')\n",
    "\n",
    "    print(f_sum_t_cells)\n",
    "    #f_sum_t_cells.to_csv(output_path+'/x_cell_table_rank.csv', index=False)\n",
    "    return f_sum_t_cells\n"
   ]
  },
  {
   "cell_type": "code",
   "execution_count": 10,
   "metadata": {},
   "outputs": [
    {
     "name": "stdout",
     "output_type": "stream",
     "text": [
      "   sample sum_t_cell_score\n",
      "6      16           3.5263\n",
      "7      17           2.4714\n",
      "14      4           1.7888\n",
      "5      15           1.6241\n",
      "4      14           1.4691\n",
      "8      18            1.218\n",
      "1      11           1.1055\n",
      "15      5           1.0814\n",
      "13      3           0.9941\n",
      "12      2           0.9313\n",
      "10      1           0.9093\n",
      "9      19           0.8962\n",
      "17      7           0.8784\n",
      "16      6           0.8621\n",
      "11     20           0.7422\n",
      "18      8           0.6775\n",
      "2      12           0.6461\n",
      "19      9           0.6439\n",
      "3      13           0.5443\n",
      "0      10           0.3578\n",
      "  sample sum_t_cell_score\n",
      "3      4           3.2296\n",
      "2      3           1.4998\n",
      "0      1            0.633\n",
      "1      2           0.1694\n"
     ]
    }
   ],
   "source": [
    "df_20_sanples_t_score = t_score(file_path_20_samples)\n",
    "df_20_sanples_t_score.to_csv('19_samples_t_cells_score_output.csv', index=False)\n",
    "df_4_sanples_t_score = t_score(file_path_4_samples)\n",
    "df_4_sanples_t_score.to_csv('4_samples_t_cells_score_output.csv', index=False)"
   ]
  }
 ],
 "metadata": {
  "kernelspec": {
   "display_name": "python_3_8_lin",
   "language": "python",
   "name": "python3"
  },
  "language_info": {
   "codemirror_mode": {
    "name": "ipython",
    "version": 3
   },
   "file_extension": ".py",
   "mimetype": "text/x-python",
   "name": "python",
   "nbconvert_exporter": "python",
   "pygments_lexer": "ipython3",
   "version": "3.8.13"
  }
 },
 "nbformat": 4,
 "nbformat_minor": 2
}
